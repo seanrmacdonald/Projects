{
 "cells": [
  {
   "cell_type": "markdown",
   "metadata": {},
   "source": [
    "In this miniproject, we will combine and practice topics that we have learned in previous two weeks:\n",
    "\n",
    "APIs\n",
    "Databases (SQL)\n",
    "Pandas\n",
    "Processing special data types in Python\n",
    "We will work with these APIs:\n",
    "\n",
    "Foursquare - we have already come across this one\n",
    "Yelp - this API offers similar services as Foursquare.\n",
    "(Stretch) Google Places API - this google api offers similar service as well.\n",
    "The main goal of the mini-project is to build the database of restaurants, bars and various points of interest (POIs) in the area of your choice and find out which API has better coverage in the selected area. The APIs have limited number of requests for free, so start with the smaller area. The project consists of following tasks:\n",
    "\n",
    "pull the data about various POIs in the area through API. (Search Yelp for companiees that are in the area using these instructions). If you run out of requests for any of the APIs, don't worry, it's ok to use only sample data you already have or the POIs from the Yelp API. It's approach and process that counts, not the actual number of places we were able to get.\n",
    "\n",
    "create own SQLite database and store the data about the POIs. Think about what will be the best structure of the database. We've created sqlite3 databases before in the activity Pandas with SQL.\n",
    "\n",
    "compare the results using SQL or Pandas (it's up to you:)) and see which API has a better coverage of the area.\n",
    "choose the top 10 POIs based on the popularity (number of reviews or average rating) (Yelp, Foursquare).\n",
    "\n",
    "(Stretch) By implementing travelling salesman problem (TSP), how much time would it take to visit all of these places? (Directions API from google will be helpful here). We will have to find travel time between all places (top 10). We can use ortools from Google to effectively implement TSP. These tools are very powerful and easy to install.\n"
   ]
  },
  {
   "cell_type": "code",
   "execution_count": 6,
   "metadata": {},
   "outputs": [],
   "source": [
    "import requests\n",
    "import pandas as pd\n",
    "import numpy as np\n",
    "import json\n",
    "import os"
   ]
  },
  {
   "cell_type": "code",
   "execution_count": 10,
   "metadata": {},
   "outputs": [
    {
     "data": {
      "text/plain": [
       "True"
      ]
     },
     "execution_count": 10,
     "metadata": {},
     "output_type": "execute_result"
    }
   ],
   "source": [
    "from dotenv import load_dotenv\n",
    "load_dotenv()"
   ]
  },
  {
   "cell_type": "code",
   "execution_count": 11,
   "metadata": {},
   "outputs": [],
   "source": [
    "# Yelp API information\n",
    "yelp_client_ID = os.getenv('yelp_client_ID')\n",
    "yelp_api_key = os.getenv('yelp_api_key')\n",
    "    \n",
    "# Google API information\n",
    "g_api_key = os.getenv('G_API_KEY')\n",
    "\n",
    "# Foursquare API information\n",
    "foursquare_id = os.getenv('foursquare_id')\n",
    "foursquare_secret = os.getenv('foursquare_secret')"
   ]
  },
  {
   "cell_type": "code",
   "execution_count": 12,
   "metadata": {},
   "outputs": [],
   "source": [
    "g_api_key"
   ]
  },
  {
   "cell_type": "markdown",
   "metadata": {},
   "source": [
    "## Defining inputs\n",
    "##### This block will take the inputs for place to search and radius to be used in other searches"
   ]
  },
  {
   "cell_type": "code",
   "execution_count": 338,
   "metadata": {},
   "outputs": [
    {
     "name": "stdin",
     "output_type": "stream",
     "text": [
      "Where would you like to search?  Kimberley\n",
      "What search radius would you like to use (m)?  2000\n"
     ]
    }
   ],
   "source": [
    "place = input(\"Where would you like to search? \")\n",
    "\n",
    "while True:\n",
    "    try:\n",
    "        rad = int(input(\"What search radius would you like to use (m)? \"))\n",
    "    except ValueError:\n",
    "        print(\"Please input an integer\")\n",
    "        continue\n",
    "    else:\n",
    "        break\n"
   ]
  },
  {
   "cell_type": "markdown",
   "metadata": {},
   "source": [
    "## Google API Request \n",
    "##### This block will take the input from the input block to return lat/long"
   ]
  },
  {
   "cell_type": "code",
   "execution_count": 358,
   "metadata": {},
   "outputs": [
    {
     "data": {
      "text/plain": [
       "200"
      ]
     },
     "execution_count": 358,
     "metadata": {},
     "output_type": "execute_result"
    }
   ],
   "source": [
    "# for location written down, give back lat,long coordinates\n",
    "\n",
    "g_url = (\"https://maps.googleapis.com/maps/api/place/findplacefromtext/\"\n",
    "    \"json?\"\n",
    "    \"input={1}\"\n",
    "    \"&inputtype=textquery\"\n",
    "    \"&fields=geometry\"\n",
    "    \"&key={0}\"\n",
    "    .format(g_api_key, place))\n",
    "\n",
    "g_resp = requests.get(g_url)\n",
    "\n",
    "g_data = g_resp.json()\n",
    "\n",
    "g_resp.status_code"
   ]
  },
  {
   "cell_type": "code",
   "execution_count": 360,
   "metadata": {},
   "outputs": [
    {
     "data": {
      "text/plain": [
       "{'candidates': [],\n",
       " 'error_message': 'The provided API key is invalid.',\n",
       " 'status': 'REQUEST_DENIED'}"
      ]
     },
     "execution_count": 360,
     "metadata": {},
     "output_type": "execute_result"
    }
   ],
   "source": [
    "g_data"
   ]
  },
  {
   "cell_type": "code",
   "execution_count": 333,
   "metadata": {},
   "outputs": [
    {
     "ename": "IndexError",
     "evalue": "list index out of range",
     "output_type": "error",
     "traceback": [
      "\u001b[0;31m---------------------------------------------------------------------------\u001b[0m",
      "\u001b[0;31mIndexError\u001b[0m                                Traceback (most recent call last)",
      "\u001b[0;32m<ipython-input-333-e21704eedcb1>\u001b[0m in \u001b[0;36m<module>\u001b[0;34m\u001b[0m\n\u001b[1;32m      1\u001b[0m \u001b[0mcoord_dict\u001b[0m \u001b[0;34m=\u001b[0m \u001b[0;34m{\u001b[0m\u001b[0;34m'lat'\u001b[0m\u001b[0;34m:\u001b[0m\u001b[0;34m[\u001b[0m\u001b[0;34m]\u001b[0m\u001b[0;34m,\u001b[0m\u001b[0;34m'long'\u001b[0m\u001b[0;34m:\u001b[0m\u001b[0;34m[\u001b[0m\u001b[0;34m]\u001b[0m\u001b[0;34m}\u001b[0m\u001b[0;34m\u001b[0m\u001b[0;34m\u001b[0m\u001b[0m\n\u001b[1;32m      2\u001b[0m \u001b[0;34m\u001b[0m\u001b[0m\n\u001b[0;32m----> 3\u001b[0;31m \u001b[0mlat\u001b[0m \u001b[0;34m=\u001b[0m \u001b[0mg_data\u001b[0m\u001b[0;34m[\u001b[0m\u001b[0;34m'candidates'\u001b[0m\u001b[0;34m]\u001b[0m\u001b[0;34m[\u001b[0m\u001b[0;36m0\u001b[0m\u001b[0;34m]\u001b[0m\u001b[0;34m[\u001b[0m\u001b[0;34m'geometry'\u001b[0m\u001b[0;34m]\u001b[0m\u001b[0;34m[\u001b[0m\u001b[0;34m'location'\u001b[0m\u001b[0;34m]\u001b[0m\u001b[0;34m[\u001b[0m\u001b[0;34m'lat'\u001b[0m\u001b[0;34m]\u001b[0m\u001b[0;34m\u001b[0m\u001b[0;34m\u001b[0m\u001b[0m\n\u001b[0m\u001b[1;32m      4\u001b[0m \u001b[0mlong\u001b[0m \u001b[0;34m=\u001b[0m \u001b[0mg_data\u001b[0m\u001b[0;34m[\u001b[0m\u001b[0;34m'candidates'\u001b[0m\u001b[0;34m]\u001b[0m\u001b[0;34m[\u001b[0m\u001b[0;36m0\u001b[0m\u001b[0;34m]\u001b[0m\u001b[0;34m[\u001b[0m\u001b[0;34m'geometry'\u001b[0m\u001b[0;34m]\u001b[0m\u001b[0;34m[\u001b[0m\u001b[0;34m'location'\u001b[0m\u001b[0;34m]\u001b[0m\u001b[0;34m[\u001b[0m\u001b[0;34m'lng'\u001b[0m\u001b[0;34m]\u001b[0m\u001b[0;34m\u001b[0m\u001b[0;34m\u001b[0m\u001b[0m\n\u001b[1;32m      5\u001b[0m \u001b[0;34m\u001b[0m\u001b[0m\n",
      "\u001b[0;31mIndexError\u001b[0m: list index out of range"
     ]
    }
   ],
   "source": [
    "coord_dict = {'lat':[],'long':[]}\n",
    "\n",
    "lat = g_data['candidates'][0]['geometry']['location']['lat']\n",
    "long = g_data['candidates'][0]['geometry']['location']['lng']\n",
    "\n",
    "# print(lat)\n",
    "# print(long)"
   ]
  },
  {
   "cell_type": "markdown",
   "metadata": {},
   "source": [
    "# Yelp API and Parse"
   ]
  },
  {
   "cell_type": "code",
   "execution_count": 267,
   "metadata": {},
   "outputs": [
    {
     "data": {
      "text/plain": [
       "200"
      ]
     },
     "execution_count": 267,
     "metadata": {},
     "output_type": "execute_result"
    }
   ],
   "source": [
    "# Yelp API request, this request sorts the results by rating\n",
    "\n",
    "url = (\"https://api.yelp.com/v3/businesses/search?\"\n",
    "    \"term=&latitude={0}\"\n",
    "    \"&longitude={1}\"\n",
    "    \"&radius={2}\"\n",
    "    \"&sort_by=rating\"\n",
    "    .format(lat,long,rad))\n",
    "\n",
    "payload = {}\n",
    "headers = {\n",
    "  'Authorization': 'Bearer %s' % yelp_api_key\n",
    "}\n",
    "\n",
    "yelp_resp = requests.request(\"GET\", url, headers=headers, data = payload)\n",
    "yelp_data = yelp_resp.json()\n",
    "yelp_resp.status_code"
   ]
  },
  {
   "cell_type": "code",
   "execution_count": 307,
   "metadata": {},
   "outputs": [],
   "source": [
    "# initialize dictionary\n",
    "yelp_dict = {'name':[],'latitude':[],'longitude':[]}\n",
    "\n",
    "#parse through to add key information to dictionary    \n",
    "for x in range(len(yelp_data['businesses'])):\n",
    "    \n",
    "    yelp_dict['name'].append(yelp_data['businesses'][x]['name'])\n",
    "    yelp_dict['latitude'].append(yelp_data['businesses'][x]['coordinates']['latitude'])\n",
    "    yelp_dict['longitude'].append(yelp_data['businesses'][x]['coordinates']['longitude'])\n",
    "\n",
    "df_yelp = pd.DataFrame(yelp_dict)\n",
    "df_yelp_10 = df_yelp.head(10)"
   ]
  },
  {
   "cell_type": "code",
   "execution_count": 308,
   "metadata": {},
   "outputs": [
    {
     "name": "stdout",
     "output_type": "stream",
     "text": [
      "According to Yelp, here are the top 10 places within 1000 m:\n",
      "0                Ten Foot Henry\n",
      "1             Village Ice Cream\n",
      "2                    Veg-In YYC\n",
      "3                 OEB Breakfast\n",
      "4    Workshop Kitchen + Culture\n",
      "5                    ZCREW Cafe\n",
      "6       Thi Thi Vietnamese Subs\n",
      "7               Boogies Burgers\n",
      "8                  Klein Harris\n",
      "9           Charcut Roast House\n",
      "Name: name, dtype: object\n"
     ]
    }
   ],
   "source": [
    "print(\"According to Yelp, here are the top 10 places within {} m:\".format(rad))\n",
    "print(df_yelp_10['name'])"
   ]
  },
  {
   "cell_type": "code",
   "execution_count": 259,
   "metadata": {},
   "outputs": [
    {
     "data": {
      "text/plain": [
       "(20, 5)"
      ]
     },
     "execution_count": 259,
     "metadata": {},
     "output_type": "execute_result"
    }
   ],
   "source": [
    "df_yelp.shape"
   ]
  },
  {
   "cell_type": "markdown",
   "metadata": {},
   "source": [
    "# Foursquare API and Parse"
   ]
  },
  {
   "cell_type": "code",
   "execution_count": 296,
   "metadata": {},
   "outputs": [
    {
     "data": {
      "text/plain": [
       "200"
      ]
     },
     "execution_count": 296,
     "metadata": {},
     "output_type": "execute_result"
    }
   ],
   "source": [
    "# Foursquare API request, this request sorts results by popularity\n",
    "\n",
    "fs_url = 'https://api.foursquare.com/v2/venues/explore'\n",
    "\n",
    "params = dict(\n",
    "client_id=foursquare_id,\n",
    "client_secret=foursquare_secret,\n",
    "v='20180323',\n",
    "ll= str(lat)+','+str(long),\n",
    "radius=rad,\n",
    "section='topPicks',\n",
    "sortByPopularity=1,\n",
    "limit=200\n",
    ")\n",
    "fs_resp = requests.get(url=fs_url, params=params)\n",
    "fs_data = json.loads(fs_resp.text)\n",
    "\n",
    "fs_resp.status_code"
   ]
  },
  {
   "cell_type": "code",
   "execution_count": 300,
   "metadata": {},
   "outputs": [],
   "source": [
    "#initialize dictionary\n",
    "fs_dict = {'name':[],'latitude':[],'longitude':[]}\n",
    "\n",
    "# parse through JSON for applicable data\n",
    "for i in range(len(fs_data['response']['groups'])):\n",
    "    for j in range(len(fs_data['response']['groups'][i]['items'])):\n",
    "        fs_dict['name'].append(fs_data['response']['groups'][i]['items'][j]['venue']['name'])\n",
    "        fs_dict['latitude'].append(fs_data['response']['groups'][i]['items'][j]['venue']['location']['lat'])\n",
    "        fs_dict['longitude'].append(fs_data['response']['groups'][i]['items'][j]['venue']['location']['lng']) \n",
    "\n",
    "df_fs = pd.DataFrame(fs_dict)\n",
    "df_fs_10 = df_fs.head(10)\n"
   ]
  },
  {
   "cell_type": "code",
   "execution_count": 298,
   "metadata": {},
   "outputs": [
    {
     "data": {
      "text/html": [
       "<div>\n",
       "<style scoped>\n",
       "    .dataframe tbody tr th:only-of-type {\n",
       "        vertical-align: middle;\n",
       "    }\n",
       "\n",
       "    .dataframe tbody tr th {\n",
       "        vertical-align: top;\n",
       "    }\n",
       "\n",
       "    .dataframe thead th {\n",
       "        text-align: right;\n",
       "    }\n",
       "</style>\n",
       "<table border=\"1\" class=\"dataframe\">\n",
       "  <thead>\n",
       "    <tr style=\"text-align: right;\">\n",
       "      <th></th>\n",
       "      <th>id</th>\n",
       "      <th>name</th>\n",
       "      <th>latitude</th>\n",
       "      <th>longitude</th>\n",
       "    </tr>\n",
       "  </thead>\n",
       "  <tbody>\n",
       "    <tr>\n",
       "      <th>0</th>\n",
       "      <td>52b3866711d2ccda9e35f954</td>\n",
       "      <td>5 Vines Wine, Craft Beer &amp; Spirits</td>\n",
       "      <td>51.041360</td>\n",
       "      <td>-114.059326</td>\n",
       "    </tr>\n",
       "    <tr>\n",
       "      <th>1</th>\n",
       "      <td>4d89722bf607a093a21eeb86</td>\n",
       "      <td>RiverWalk</td>\n",
       "      <td>51.047774</td>\n",
       "      <td>-114.049147</td>\n",
       "    </tr>\n",
       "    <tr>\n",
       "      <th>2</th>\n",
       "      <td>4bdc574efed22d7fcab657c9</td>\n",
       "      <td>Sien Lok Park</td>\n",
       "      <td>51.052199</td>\n",
       "      <td>-114.065061</td>\n",
       "    </tr>\n",
       "    <tr>\n",
       "      <th>3</th>\n",
       "      <td>4b6b6ebef964a52070082ce3</td>\n",
       "      <td>Calgary Court Restaurant</td>\n",
       "      <td>51.051128</td>\n",
       "      <td>-114.061454</td>\n",
       "    </tr>\n",
       "    <tr>\n",
       "      <th>4</th>\n",
       "      <td>4fe61052e4b05d1edc0100a5</td>\n",
       "      <td>Village Ice Cream</td>\n",
       "      <td>51.042734</td>\n",
       "      <td>-114.054295</td>\n",
       "    </tr>\n",
       "    <tr>\n",
       "      <th>5</th>\n",
       "      <td>4aeccc23f964a52049cb21e3</td>\n",
       "      <td>Bottlescrew Bill's Old English Pub</td>\n",
       "      <td>51.043545</td>\n",
       "      <td>-114.065531</td>\n",
       "    </tr>\n",
       "    <tr>\n",
       "      <th>6</th>\n",
       "      <td>518bfd76498e9a6d2a967141</td>\n",
       "      <td>Local 8th Avenue</td>\n",
       "      <td>51.045820</td>\n",
       "      <td>-114.068583</td>\n",
       "    </tr>\n",
       "    <tr>\n",
       "      <th>7</th>\n",
       "      <td>566f9b18498eafd7d1193e2d</td>\n",
       "      <td>Cactus Club Cafe</td>\n",
       "      <td>51.045966</td>\n",
       "      <td>-114.070166</td>\n",
       "    </tr>\n",
       "    <tr>\n",
       "      <th>8</th>\n",
       "      <td>4b0586eaf964a520367522e3</td>\n",
       "      <td>Bookers BBQ Grill &amp; Crab Shack</td>\n",
       "      <td>51.049449</td>\n",
       "      <td>-114.055084</td>\n",
       "    </tr>\n",
       "    <tr>\n",
       "      <th>9</th>\n",
       "      <td>4fbb978fe4b0450d1d488e52</td>\n",
       "      <td>River Walk</td>\n",
       "      <td>51.051413</td>\n",
       "      <td>-114.059962</td>\n",
       "    </tr>\n",
       "  </tbody>\n",
       "</table>\n",
       "</div>"
      ],
      "text/plain": [
       "                         id                                name   latitude  \\\n",
       "0  52b3866711d2ccda9e35f954  5 Vines Wine, Craft Beer & Spirits  51.041360   \n",
       "1  4d89722bf607a093a21eeb86                           RiverWalk  51.047774   \n",
       "2  4bdc574efed22d7fcab657c9                       Sien Lok Park  51.052199   \n",
       "3  4b6b6ebef964a52070082ce3            Calgary Court Restaurant  51.051128   \n",
       "4  4fe61052e4b05d1edc0100a5                   Village Ice Cream  51.042734   \n",
       "5  4aeccc23f964a52049cb21e3  Bottlescrew Bill's Old English Pub  51.043545   \n",
       "6  518bfd76498e9a6d2a967141                    Local 8th Avenue  51.045820   \n",
       "7  566f9b18498eafd7d1193e2d                    Cactus Club Cafe  51.045966   \n",
       "8  4b0586eaf964a520367522e3      Bookers BBQ Grill & Crab Shack  51.049449   \n",
       "9  4fbb978fe4b0450d1d488e52                          River Walk  51.051413   \n",
       "\n",
       "    longitude  \n",
       "0 -114.059326  \n",
       "1 -114.049147  \n",
       "2 -114.065061  \n",
       "3 -114.061454  \n",
       "4 -114.054295  \n",
       "5 -114.065531  \n",
       "6 -114.068583  \n",
       "7 -114.070166  \n",
       "8 -114.055084  \n",
       "9 -114.059962  "
      ]
     },
     "execution_count": 298,
     "metadata": {},
     "output_type": "execute_result"
    }
   ],
   "source": [
    "df_fs_10"
   ]
  },
  {
   "cell_type": "code",
   "execution_count": 271,
   "metadata": {},
   "outputs": [
    {
     "data": {
      "text/plain": [
       "(100, 4)"
      ]
     },
     "execution_count": 271,
     "metadata": {},
     "output_type": "execute_result"
    }
   ],
   "source": [
    "df_fs.shape"
   ]
  },
  {
   "cell_type": "code",
   "execution_count": null,
   "metadata": {},
   "outputs": [],
   "source": [
    "for row in range(df_fs_10.shape()):\n",
    "    print(df_fs_10['name'][row])"
   ]
  },
  {
   "cell_type": "markdown",
   "metadata": {},
   "source": [
    "## Google Directions\n",
    "##### Give distance from location to location"
   ]
  },
  {
   "cell_type": "code",
   "execution_count": 229,
   "metadata": {},
   "outputs": [],
   "source": [
    "# create list from Yelp Top 10 to input as waypoint string for Google Direction API\n",
    "\n",
    "yelp_list = []\n",
    "\n",
    "for row in range(df_yelp_10.shape[0]):\n",
    "    yelp_list.append(str(df_yelp_10['latitude'][row])+'%2C'+str(df_yelp_10['longitude'][row]))\n",
    "\n",
    "waypoint_string = '|'.join(yelp_list)"
   ]
  },
  {
   "cell_type": "code",
   "execution_count": 230,
   "metadata": {},
   "outputs": [
    {
     "data": {
      "text/plain": [
       "200"
      ]
     },
     "execution_count": 230,
     "metadata": {},
     "output_type": "execute_result"
    }
   ],
   "source": [
    "g_dir_url = (\"https://maps.googleapis.com/maps/api/directions/\"\n",
    "             \"json?\"\n",
    "             \"origin={1}\"\n",
    "             \"&destination={1}\"\n",
    "             \"&waypoints=optimize:True|\"\n",
    "             \"{2}\"\n",
    "             \"&key={0}\"\n",
    "             .format(g_api_key,list[0],waypoint_string))\n",
    "\n",
    "g_dir_resp = requests.get(g_dir_url)\n",
    "\n",
    "g_dir_data = g_dir_resp.json()\n",
    "\n",
    "g_dir_resp.status_code\n",
    "\n"
   ]
  },
  {
   "cell_type": "code",
   "execution_count": 231,
   "metadata": {},
   "outputs": [],
   "source": [
    "# calculate total distance travelled between all points of interest\n",
    "\n",
    "time = 0\n",
    "\n",
    "for x in range(len(g_dir_data['routes'][0]['legs'])):\n",
    "    time += g_dir_data['routes'][0]['legs'][x]['duration']['value']\n",
    "                \n",
    "minutes = round(time/60)\n"
   ]
  },
  {
   "cell_type": "code",
   "execution_count": 232,
   "metadata": {},
   "outputs": [
    {
     "name": "stdout",
     "output_type": "stream",
     "text": [
      "\n",
      "\n",
      "It will take about 40 minutes to drive between each of these locations.\n"
     ]
    }
   ],
   "source": [
    "print(\"\\n\\nIt will take about {} minutes to drive between each of these locations.\".format(minutes))"
   ]
  },
  {
   "cell_type": "code",
   "execution_count": 224,
   "metadata": {
    "collapsed": true,
    "jupyter": {
     "outputs_hidden": true
    }
   },
   "outputs": [
    {
     "data": {
      "text/plain": [
       "[0, 1, 2, 3, 4, 5, 6, 7, 8, 9]"
      ]
     },
     "execution_count": 224,
     "metadata": {},
     "output_type": "execute_result"
    }
   ],
   "source": [
    "order = g_dir_data['routes'][0]['waypoint_order']\n",
    "\n",
    "order_places = []\n",
    "\n",
    "for i in range(len(order)):\n",
    "    order_places.append(df_yelp_10['name'][i])\n",
    "\n",
    "' --> '.join(order_places)"
   ]
  },
  {
   "cell_type": "markdown",
   "metadata": {},
   "source": [
    "## Find places in common with both tables"
   ]
  },
  {
   "cell_type": "code",
   "execution_count": 283,
   "metadata": {},
   "outputs": [
    {
     "data": {
      "text/plain": [
       "10        Village Ice Cream\n",
       "53              Studio Bell\n",
       "61           Ten Foot Henry\n",
       "63    Rosso Coffee Roasters\n",
       "Name: name, dtype: object"
      ]
     },
     "execution_count": 283,
     "metadata": {},
     "output_type": "execute_result"
    }
   ],
   "source": [
    "yelp_names = df_yelp['name']\n",
    "fs_names = df_fs['name']\n",
    "common = fs_names[fs_names.isin(yelp_names)]\n",
    "common"
   ]
  },
  {
   "cell_type": "code",
   "execution_count": 284,
   "metadata": {},
   "outputs": [
    {
     "data": {
      "text/plain": [
       "0            Ten Foot Henry\n",
       "1         Village Ice Cream\n",
       "15              Studio Bell\n",
       "19    Rosso Coffee Roasters\n",
       "Name: name, dtype: object"
      ]
     },
     "execution_count": 284,
     "metadata": {},
     "output_type": "execute_result"
    }
   ],
   "source": [
    "yelp_names[yelp_names.isin(fs_names)]\n"
   ]
  },
  {
   "cell_type": "code",
   "execution_count": 291,
   "metadata": {},
   "outputs": [
    {
     "data": {
      "text/plain": [
       "0        Village Ice Cream\n",
       "1              Studio Bell\n",
       "2           Ten Foot Henry\n",
       "3    Rosso Coffee Roasters\n",
       "Name: name, dtype: object"
      ]
     },
     "execution_count": 291,
     "metadata": {},
     "output_type": "execute_result"
    }
   ],
   "source": [
    "common = common.reset_index(drop=True)\n",
    "common"
   ]
  },
  {
   "cell_type": "code",
   "execution_count": 293,
   "metadata": {},
   "outputs": [
    {
     "name": "stdout",
     "output_type": "stream",
     "text": [
      "\n",
      " The top places in common between both sites are:\n",
      "\n",
      "\t 1 - Village Ice Cream\n",
      "\t 2 - Studio Bell\n",
      "\t 3 - Ten Foot Henry\n",
      "\t 4 - Rosso Coffee Roasters\n"
     ]
    }
   ],
   "source": [
    "print('\\n The top places in common between both sites are:\\n')\n",
    "for row in range(len(common)):\n",
    "    print('\\t',row+1,'-',common[row])"
   ]
  },
  {
   "cell_type": "code",
   "execution_count": 311,
   "metadata": {},
   "outputs": [
    {
     "data": {
      "text/plain": [
       "name          object\n",
       "latitude     float64\n",
       "longitude    float64\n",
       "dtype: object"
      ]
     },
     "execution_count": 311,
     "metadata": {},
     "output_type": "execute_result"
    }
   ],
   "source": [
    "df_fs_10.dtypes"
   ]
  },
  {
   "cell_type": "code",
   "execution_count": 312,
   "metadata": {},
   "outputs": [
    {
     "data": {
      "text/plain": [
       "name          object\n",
       "latitude     float64\n",
       "longitude    float64\n",
       "dtype: object"
      ]
     },
     "execution_count": 312,
     "metadata": {},
     "output_type": "execute_result"
    }
   ],
   "source": [
    "df_yelp_10.dtypes"
   ]
  },
  {
   "cell_type": "code",
   "execution_count": 322,
   "metadata": {},
   "outputs": [
    {
     "data": {
      "text/html": [
       "<div>\n",
       "<style scoped>\n",
       "    .dataframe tbody tr th:only-of-type {\n",
       "        vertical-align: middle;\n",
       "    }\n",
       "\n",
       "    .dataframe tbody tr th {\n",
       "        vertical-align: top;\n",
       "    }\n",
       "\n",
       "    .dataframe thead th {\n",
       "        text-align: right;\n",
       "    }\n",
       "</style>\n",
       "<table border=\"1\" class=\"dataframe\">\n",
       "  <thead>\n",
       "    <tr style=\"text-align: right;\">\n",
       "      <th></th>\n",
       "      <th>name</th>\n",
       "      <th>latitude</th>\n",
       "      <th>longitude</th>\n",
       "    </tr>\n",
       "  </thead>\n",
       "  <tbody>\n",
       "    <tr>\n",
       "      <th>0</th>\n",
       "      <td>5 Vines Wine, Craft Beer &amp; Spirits</td>\n",
       "      <td>51.041360</td>\n",
       "      <td>-114.059326</td>\n",
       "    </tr>\n",
       "    <tr>\n",
       "      <th>1</th>\n",
       "      <td>Ten Foot Henry</td>\n",
       "      <td>51.041090</td>\n",
       "      <td>-114.065970</td>\n",
       "    </tr>\n",
       "    <tr>\n",
       "      <th>2</th>\n",
       "      <td>RiverWalk</td>\n",
       "      <td>51.047774</td>\n",
       "      <td>-114.049147</td>\n",
       "    </tr>\n",
       "    <tr>\n",
       "      <th>3</th>\n",
       "      <td>Village Ice Cream</td>\n",
       "      <td>51.042919</td>\n",
       "      <td>-114.054319</td>\n",
       "    </tr>\n",
       "    <tr>\n",
       "      <th>4</th>\n",
       "      <td>Sien Lok Park</td>\n",
       "      <td>51.052199</td>\n",
       "      <td>-114.065061</td>\n",
       "    </tr>\n",
       "    <tr>\n",
       "      <th>5</th>\n",
       "      <td>Veg-In YYC</td>\n",
       "      <td>51.047396</td>\n",
       "      <td>-114.059111</td>\n",
       "    </tr>\n",
       "    <tr>\n",
       "      <th>6</th>\n",
       "      <td>Calgary Court Restaurant</td>\n",
       "      <td>51.051128</td>\n",
       "      <td>-114.061454</td>\n",
       "    </tr>\n",
       "    <tr>\n",
       "      <th>7</th>\n",
       "      <td>OEB Breakfast</td>\n",
       "      <td>51.048585</td>\n",
       "      <td>-114.066826</td>\n",
       "    </tr>\n",
       "    <tr>\n",
       "      <th>8</th>\n",
       "      <td>Village Ice Cream</td>\n",
       "      <td>51.042734</td>\n",
       "      <td>-114.054295</td>\n",
       "    </tr>\n",
       "    <tr>\n",
       "      <th>9</th>\n",
       "      <td>Workshop Kitchen + Culture</td>\n",
       "      <td>51.047090</td>\n",
       "      <td>-114.064890</td>\n",
       "    </tr>\n",
       "  </tbody>\n",
       "</table>\n",
       "</div>"
      ],
      "text/plain": [
       "                                 name   latitude   longitude\n",
       "0  5 Vines Wine, Craft Beer & Spirits  51.041360 -114.059326\n",
       "1                      Ten Foot Henry  51.041090 -114.065970\n",
       "2                           RiverWalk  51.047774 -114.049147\n",
       "3                   Village Ice Cream  51.042919 -114.054319\n",
       "4                       Sien Lok Park  51.052199 -114.065061\n",
       "5                          Veg-In YYC  51.047396 -114.059111\n",
       "6            Calgary Court Restaurant  51.051128 -114.061454\n",
       "7                       OEB Breakfast  51.048585 -114.066826\n",
       "8                   Village Ice Cream  51.042734 -114.054295\n",
       "9          Workshop Kitchen + Culture  51.047090 -114.064890"
      ]
     },
     "execution_count": 322,
     "metadata": {},
     "output_type": "execute_result"
    }
   ],
   "source": [
    "full_list = pd.concat([df_fs_10,df_yelp_10])\n",
    "short_list = full_list.sort_index().head(10).reset_index(drop=True)\n",
    "short_list"
   ]
  },
  {
   "cell_type": "code",
   "execution_count": 323,
   "metadata": {},
   "outputs": [
    {
     "name": "stdout",
     "output_type": "stream",
     "text": [
      "\n",
      "\n",
      "The best order to visit the locations is:\n",
      "     5 Vines Wine, Craft Beer & Spirits\n",
      "       Ten Foot Henry\n",
      "         RiverWalk\n",
      "           Village Ice Cream\n",
      "             Sien Lok Park\n",
      "               Veg-In YYC\n",
      "                 Calgary Court Restaurant\n",
      "                   OEB Breakfast\n",
      "                     Village Ice Cream\n",
      "                       Workshop Kitchen + Culture\n"
     ]
    }
   ],
   "source": [
    "print(\"\\n\\nThe best order to visit the locations is:\")\n",
    "for i in range(len(order)):\n",
    "    print('   ','  '*i,(short_list['name'][order[i]]))\n"
   ]
  },
  {
   "cell_type": "code",
   "execution_count": 325,
   "metadata": {},
   "outputs": [
    {
     "name": "stdout",
     "output_type": "stream",
     "text": [
      "User's Environment variable:\n",
      "{'CLICOLOR': '1',\n",
      " 'CONDA_DEFAULT_ENV': 'base',\n",
      " 'CONDA_EXE': '/Applications/anaconda3/bin/conda',\n",
      " 'CONDA_PREFIX': '/Applications/anaconda3',\n",
      " 'CONDA_PROMPT_MODIFIER': '(base) ',\n",
      " 'CONDA_PYTHON_EXE': '/Applications/anaconda3/bin/python',\n",
      " 'CONDA_SHLVL': '1',\n",
      " 'GIT_PAGER': 'cat',\n",
      " 'HOME': '/Users/seanmacdonald',\n",
      " 'JPY_PARENT_PID': '58466',\n",
      " 'KERNEL_LAUNCH_TIMEOUT': '40',\n",
      " 'LANG': 'en_CA.UTF-8',\n",
      " 'LOGNAME': 'seanmacdonald',\n",
      " 'MPLBACKEND': 'module://ipykernel.pylab.backend_inline',\n",
      " 'OLDPWD': '/Users/seanmacdonald',\n",
      " 'PAGER': 'cat',\n",
      " 'PATH': '/Applications/anaconda3/bin:/Applications/anaconda3/condabin:/usr/local/bin:/usr/bin:/bin:/usr/sbin:/sbin',\n",
      " 'PROJ_LIB': '/Applications/anaconda3/share/proj',\n",
      " 'PWD': '/Users/seanmacdonald',\n",
      " 'SHELL': '/bin/zsh',\n",
      " 'SHLVL': '1',\n",
      " 'SSH_AUTH_SOCK': '/private/tmp/com.apple.launchd.IvuQbpi9yU/Listeners',\n",
      " 'TERM': 'xterm-color',\n",
      " 'TERM_PROGRAM': 'Apple_Terminal',\n",
      " 'TERM_PROGRAM_VERSION': '433',\n",
      " 'TERM_SESSION_ID': '13A388A1-D567-4A78-B117-1C40D155D39A',\n",
      " 'TMPDIR': '/var/folders/k4/771z265d1n1djdgw66lj38r80000gn/T/',\n",
      " 'USER': 'seanmacdonald',\n",
      " 'XPC_FLAGS': '0x0',\n",
      " 'XPC_SERVICE_NAME': '0',\n",
      " '_': '/Applications/anaconda3/bin/jupyter',\n",
      " '_CE_CONDA': '',\n",
      " '_CE_M': ''}\n"
     ]
    }
   ],
   "source": [
    "import os \n",
    "import pprint\n",
    "\n",
    "env_var = os.environ\n",
    "\n",
    "print(\"User's Environment variable:\") \n",
    "pprint.pprint(dict(env_var), width = 1) "
   ]
  },
  {
   "cell_type": "code",
   "execution_count": null,
   "metadata": {},
   "outputs": [],
   "source": []
  }
 ],
 "metadata": {
  "kernelspec": {
   "display_name": "Python 3",
   "language": "python",
   "name": "python3"
  },
  "language_info": {
   "codemirror_mode": {
    "name": "ipython",
    "version": 3
   },
   "file_extension": ".py",
   "mimetype": "text/x-python",
   "name": "python",
   "nbconvert_exporter": "python",
   "pygments_lexer": "ipython3",
   "version": "3.7.6"
  }
 },
 "nbformat": 4,
 "nbformat_minor": 4
}
